{
 "cells": [
  {
   "cell_type": "markdown",
   "metadata": {},
   "source": [
    "<img src=\"images/Numbers.png\">\n",
    "\n",
    "# Numbers in Python Programming\n",
    "\n",
    "With this section, now, we are starting to learn Python. First of all, we need to learn data types and data structures to solidify our Python knowledge. \n",
    "\n",
    "Let's start with our Python journey by learning the numbers in Python.\n",
    "\n",
    "In this lesson, we are going to learn following topics:\n",
    "\n",
    "<ul>\n",
    "  <li>Integers Data Type</li>\n",
    "  <li>Floating Point Numbers</li>\n",
    "  <li>Basic Math Operations </li>\n",
    "</ul>\n",
    "\n",
    "\n",
    "\n",
    "### Integers\n",
    "\n",
    "Integers are like whole numbers, but they also include negative numbers ... In integers no fractions allowed!\n",
    "\n",
    "So, **integers can be negative {-1, -2,-3, -4, -5, ... }, zero {0} and positive {1, 2, 3, 4, 5, ... } **\n",
    "\n",
    "We can put that all together like this:\n",
    "\n",
    "Integers = { -∞,...,-6, -5, -4, -3, -2, -1, 0, 1, 2, 3, 4, 5, 6...,∞ } \n",
    "\n",
    "**Examples:** −16, 35, 0, 7, 198 ... are all integers.\n",
    "\n",
    "### Floats (Floating Points)\n",
    "\n",
    "\n",
    "Floating-points are numbers with floating decimal points.\n",
    "\n",
    "Floating-point, as the name implies, are numbers that contain decimal points that can float left or right. \n",
    "\n",
    "In programming, floating-point is used to represent fractions. Numbers such as 1/2, 3/7, -100/3 can be represented in floating-point as 0.5, 0.42857, -33.33. \n",
    "\n",
    "Often the keyword **float** is used to declare a variable that stores floating-point numbers. \n",
    "\n",
    "\n",
    "**Examples:** 2.4, -1.62, 3.14, -0.1, 3.554546, -13.58\n",
    "\n",
    "Now let's learn the basic mathematical operations in Python programming.\n",
    "\n",
    "\n",
    "### Basic Math Operations\n",
    "\n",
    "Basic math operations include four basic operations:\n",
    " <ul>\n",
    " <li> Addition (+)</li>\n",
    " <li> Subtraction (-) </li>\n",
    " <li> Multiplication (*)</li>\n",
    " <li> Division (/)</li>\n",
    "</ul>\n",
    "\n",
    "  These operations are commonly called arithmetic operations. Arithmetic is the oldest and most elementary branch of mathematics. In this lesson we will briefly explain basic math operations. Keep in mind that, even though the operations and the examples shown here are pretty simple, they provide the basis for even the most complex operations used in mathematics."
   ]
  },
  {
   "cell_type": "code",
   "execution_count": 2,
   "metadata": {},
   "outputs": [
    {
     "data": {
      "text/plain": [
       "7"
      ]
     },
     "execution_count": 2,
     "metadata": {},
     "output_type": "execute_result"
    }
   ],
   "source": [
    "#Addition\n",
    "3 + 4"
   ]
  },
  {
   "cell_type": "code",
   "execution_count": 3,
   "metadata": {},
   "outputs": [
    {
     "data": {
      "text/plain": [
       "-3"
      ]
     },
     "execution_count": 3,
     "metadata": {},
     "output_type": "execute_result"
    }
   ],
   "source": [
    "#Substraction\n",
    "2 - 5"
   ]
  },
  {
   "cell_type": "code",
   "execution_count": 4,
   "metadata": {},
   "outputs": [
    {
     "data": {
      "text/plain": [
       "22"
      ]
     },
     "execution_count": 4,
     "metadata": {},
     "output_type": "execute_result"
    }
   ],
   "source": [
    "#Multiplication\n",
    "2 * 11"
   ]
  },
  {
   "cell_type": "code",
   "execution_count": 5,
   "metadata": {},
   "outputs": [
    {
     "data": {
      "text/plain": [
       "2.0"
      ]
     },
     "execution_count": 5,
     "metadata": {},
     "output_type": "execute_result"
    }
   ],
   "source": [
    "#Division\n",
    "6 / 3"
   ]
  },
  {
   "cell_type": "markdown",
   "metadata": {},
   "source": [
    "So far, we have learned our basic math operations. But the last operation, the division may have confused in your mind. \n",
    "\n",
    "6 is an integer, 3 is an integer too. So why the result is a **float**? I think it would be much better to see them in the ** Mathematical Operators ** section."
   ]
  },
  {
   "cell_type": "code",
   "execution_count": 7,
   "metadata": {},
   "outputs": [
    {
     "data": {
      "text/plain": [
       "5"
      ]
     },
     "execution_count": 7,
     "metadata": {},
     "output_type": "execute_result"
    }
   ],
   "source": [
    "3 + 5 + 9 - 4 * 3 "
   ]
  },
  {
   "cell_type": "markdown",
   "metadata": {},
   "source": [
    "That's all for now for this lesson! \n",
    "\n",
    "See you in our next lessons!\n"
   ]
  }
 ],
 "metadata": {
  "kernelspec": {
   "display_name": "Python 3",
   "language": "python",
   "name": "python3"
  },
  "language_info": {
   "codemirror_mode": {
    "name": "ipython",
    "version": 3
   },
   "file_extension": ".py",
   "mimetype": "text/x-python",
   "name": "python",
   "nbconvert_exporter": "python",
   "pygments_lexer": "ipython3",
   "version": "3.6.1"
  }
 },
 "nbformat": 4,
 "nbformat_minor": 2
}
