{
 "cells": [
  {
   "cell_type": "markdown",
   "metadata": {},
   "source": [
    "<img src=\"images/format.png\">\n",
    "\n",
    "# Formatting\n",
    "\n",
    "The built-in format() function returns us a formatted representation of the given value controlled by the format specifier.\n",
    "\n",
    "\n",
    "String formatting allows us to do variable substitutions and value formatting. We use **format()** function to format our strings in Python. This lets us concatenate elements together within a string through positional formatting.\n",
    "We’re going to learn you through some of the common uses of formatting in Python, which can help make your code and program more readable and user friendly.\n"
   ]
  },
  {
   "cell_type": "code",
   "execution_count": 26,
   "metadata": {},
   "outputs": [
    {
     "data": {
      "text/plain": [
       "'2 5.3 omer'"
      ]
     },
     "execution_count": 26,
     "metadata": {},
     "output_type": "execute_result"
    }
   ],
   "source": [
    "\"{} {} {}\".format(2,5.3,\"omer\")"
   ]
  },
  {
   "cell_type": "code",
   "execution_count": 27,
   "metadata": {
    "scrolled": true
   },
   "outputs": [
    {
     "name": "stdout",
     "output_type": "stream",
     "text": [
      "My name is Omer.\n",
      "I'm 30 years old.\n"
     ]
    }
   ],
   "source": [
    "firstname= \"Omer\" \n",
    "age = 30\n",
    "print(\"My name is {}.\\nI'm {} years old.\".format(firstname,age))"
   ]
  },
  {
   "cell_type": "code",
   "execution_count": 28,
   "metadata": {},
   "outputs": [
    {
     "data": {
      "text/plain": [
       "'omer 27 8'"
      ]
     },
     "execution_count": 28,
     "metadata": {},
     "output_type": "execute_result"
    }
   ],
   "source": [
    "# We can write this way as well.\n",
    "\"{1} {0} {2}\".format(27,\"omer\", 3+5)"
   ]
  },
  {
   "cell_type": "code",
   "execution_count": 29,
   "metadata": {},
   "outputs": [
    {
     "data": {
      "text/plain": [
       "'1.4 23.12 1.324'"
      ]
     },
     "execution_count": 29,
     "metadata": {},
     "output_type": "execute_result"
    }
   ],
   "source": [
    "#we can limit precision. \n",
    "\"{:.1f} {:.2f} {:.3f}\".format(1.42372379,23.12324,1.324324)"
   ]
  },
  {
   "cell_type": "markdown",
   "metadata": {},
   "source": [
    "In addition, if you want to learn more about formatting, you can look at this great resource below.\n",
    "\n",
    "Useful Resource: \n",
    "<a href=\"https://pyformat.info/\">https://pyformat.info</a>"
   ]
  },
  {
   "cell_type": "markdown",
   "metadata": {},
   "source": [
    "That's all for now for this lesson. \n",
    "\n",
    "See you in our next lessons..."
   ]
  },
  {
   "cell_type": "code",
   "execution_count": null,
   "metadata": {
    "collapsed": true
   },
   "outputs": [],
   "source": []
  }
 ],
 "metadata": {
  "kernelspec": {
   "display_name": "Python 3",
   "language": "python",
   "name": "python3"
  },
  "language_info": {
   "codemirror_mode": {
    "name": "ipython",
    "version": 3
   },
   "file_extension": ".py",
   "mimetype": "text/x-python",
   "name": "python",
   "nbconvert_exporter": "python",
   "pygments_lexer": "ipython3",
   "version": "3.6.1"
  }
 },
 "nbformat": 4,
 "nbformat_minor": 2
}
