{
 "cells": [
  {
   "cell_type": "markdown",
   "metadata": {},
   "source": [
    "<img src=\"images/05-print.png\">\n",
    "\n",
    "# Print Function and Formatting Python Outputs\n",
    "\n",
    "\n",
    "The print function in Python is a function that outputs to screen whatever you say you want to print out.\n",
    "\n",
    "Let’s start with print function. \n",
    "\n",
    "### Print() Function\n",
    "\n",
    " *This function is used to print the values that we want to the screen.*\n",
    " \n",
    " The simple syntax of print() is:\n",
    " \n",
    "     print(something)\n"
   ]
  },
  {
   "cell_type": "code",
   "execution_count": 1,
   "metadata": {},
   "outputs": [
    {
     "name": "stdout",
     "output_type": "stream",
     "text": [
      "12\n"
     ]
    }
   ],
   "source": [
    "#Print int value\n",
    "print(12)"
   ]
  },
  {
   "cell_type": "code",
   "execution_count": 2,
   "metadata": {},
   "outputs": [
    {
     "name": "stdout",
     "output_type": "stream",
     "text": [
      "7.16\n"
     ]
    }
   ],
   "source": [
    "#Print float value\n",
    "print(7.16)"
   ]
  },
  {
   "cell_type": "code",
   "execution_count": 3,
   "metadata": {},
   "outputs": [
    {
     "name": "stdout",
     "output_type": "stream",
     "text": [
      "7\n"
     ]
    }
   ],
   "source": [
    "print(3+4)"
   ]
  },
  {
   "cell_type": "code",
   "execution_count": 4,
   "metadata": {},
   "outputs": [
    {
     "name": "stdout",
     "output_type": "stream",
     "text": [
      "256\n"
     ]
    }
   ],
   "source": [
    "print(2**8)"
   ]
  },
  {
   "cell_type": "code",
   "execution_count": 5,
   "metadata": {},
   "outputs": [
    {
     "name": "stdout",
     "output_type": "stream",
     "text": [
      "3\n",
      "12\n",
      "3 12\n",
      "15 -9 36\n"
     ]
    }
   ],
   "source": [
    "a = 3 \n",
    "b = 12\n",
    "\n",
    "print (a)\n",
    "print (b)\n",
    "print (a,b)\n",
    "print (a+b,a-b,a*b)"
   ]
  },
  {
   "cell_type": "code",
   "execution_count": 6,
   "metadata": {},
   "outputs": [
    {
     "name": "stdout",
     "output_type": "stream",
     "text": [
      "19\n"
     ]
    }
   ],
   "source": [
    "a = 4\n",
    "b = 15\n",
    "print(a+b)"
   ]
  },
  {
   "cell_type": "code",
   "execution_count": 7,
   "metadata": {},
   "outputs": [
    {
     "name": "stdout",
     "output_type": "stream",
     "text": [
      "Omer Faruk Ince\n"
     ]
    }
   ],
   "source": [
    "#Prints string value\n",
    "print(\"Omer Faruk Ince\")"
   ]
  },
  {
   "cell_type": "code",
   "execution_count": 8,
   "metadata": {},
   "outputs": [
    {
     "name": "stdout",
     "output_type": "stream",
     "text": [
      "I'm learning Python!\n"
     ]
    }
   ],
   "source": [
    "print(\"I'm learning Python!\")"
   ]
  },
  {
   "cell_type": "markdown",
   "metadata": {},
   "source": [
    "### Printing Multiple Arguments in Python:"
   ]
  },
  {
   "cell_type": "code",
   "execution_count": 9,
   "metadata": {},
   "outputs": [
    {
     "name": "stdout",
     "output_type": "stream",
     "text": [
      "Python Ruby Perl\n"
     ]
    }
   ],
   "source": [
    "print(\"Python\",\"Ruby\", \"Perl\")"
   ]
  },
  {
   "cell_type": "code",
   "execution_count": 10,
   "metadata": {},
   "outputs": [
    {
     "name": "stdout",
     "output_type": "stream",
     "text": [
      "Omer 7 8\n"
     ]
    }
   ],
   "source": [
    "print(\"Omer\",3+4, 8)"
   ]
  },
  {
   "cell_type": "code",
   "execution_count": 11,
   "metadata": {},
   "outputs": [
    {
     "name": "stdout",
     "output_type": "stream",
     "text": [
      "Omer Faruk Ince\n"
     ]
    }
   ],
   "source": [
    "print(\"Omer \"+\"Faruk \"+\"Ince\")"
   ]
  },
  {
   "cell_type": "markdown",
   "metadata": {},
   "source": [
    "### Escape Characters\n",
    "In strings, we have some special characters in python. These are called Escape characters in Python programming. Escaping involves using a \\ character and then the following character is ignored. There are lots of escape character in Python. But we are going to see the most frequently used ones. These are \\n and \\t.\n",
    "\n",
    "Let's see these escape characters.\n",
    "\n",
    "#### \\n character:\n",
    "\n",
    "\\n continues the string on the **new line**.\n"
   ]
  },
  {
   "cell_type": "code",
   "execution_count": 12,
   "metadata": {},
   "outputs": [
    {
     "name": "stdout",
     "output_type": "stream",
     "text": [
      "Hello\n",
      "World\n"
     ]
    }
   ],
   "source": [
    "print(\"Hello\\nWorld\")"
   ]
  },
  {
   "cell_type": "code",
   "execution_count": 13,
   "metadata": {},
   "outputs": [
    {
     "name": "stdout",
     "output_type": "stream",
     "text": [
      "Python\n",
      "Programming\n",
      "Language\n"
     ]
    }
   ],
   "source": [
    "print(\"Python\\nProgramming\\nLanguage\")"
   ]
  },
  {
   "cell_type": "markdown",
   "metadata": {},
   "source": [
    "#### \\t character:\n",
    "\n",
    "\\t can be used to put a **tab** in a string."
   ]
  },
  {
   "cell_type": "code",
   "execution_count": 14,
   "metadata": {},
   "outputs": [
    {
     "name": "stdout",
     "output_type": "stream",
     "text": [
      "A\tB\tC\tD\n"
     ]
    }
   ],
   "source": [
    "print(\"A\\tB\\tC\\tD\")"
   ]
  },
  {
   "cell_type": "code",
   "execution_count": 15,
   "metadata": {},
   "outputs": [
    {
     "name": "stdout",
     "output_type": "stream",
     "text": [
      "a\t\t\t\t\tb\n"
     ]
    }
   ],
   "source": [
    "print(\"a\\t\\t\\t\\t\\tb\")"
   ]
  },
  {
   "cell_type": "markdown",
   "metadata": {},
   "source": [
    "### type() function\n",
    "\n",
    "This function is super useful in Python. If an argument (object) is passed to type() function, it returns **data type** of the given object.\n"
   ]
  },
  {
   "cell_type": "code",
   "execution_count": 16,
   "metadata": {},
   "outputs": [
    {
     "name": "stdout",
     "output_type": "stream",
     "text": [
      "<class 'int'>\n"
     ]
    }
   ],
   "source": [
    "# Integer Data type\n",
    "a = 8\n",
    "print(type(a))"
   ]
  },
  {
   "cell_type": "code",
   "execution_count": 17,
   "metadata": {},
   "outputs": [
    {
     "name": "stdout",
     "output_type": "stream",
     "text": [
      "<class 'float'>\n"
     ]
    }
   ],
   "source": [
    "# Float Data type \n",
    "a = 12.56\n",
    "print(type(a))"
   ]
  },
  {
   "cell_type": "code",
   "execution_count": 18,
   "metadata": {},
   "outputs": [
    {
     "name": "stdout",
     "output_type": "stream",
     "text": [
      "<class 'str'>\n"
     ]
    }
   ],
   "source": [
    "#Float String type\n",
    "s = \"This is just a string.\"\n",
    "print(type(s))"
   ]
  },
  {
   "cell_type": "markdown",
   "metadata": {},
   "source": [
    "### Print() Function Parameters\n",
    "\n",
    "Actually the  full syntax of print() is:\n",
    "      \n",
    "    Basic Usage: print() \n",
    "\n",
    "    Full Usage : print(*objects, sep=' ', end='\\n', file=sys.stdout, flush=False)\n",
    "\n",
    "We can use the print function more efficiently by using some parameters of the print function.\n",
    "\n",
    "We're going to see all these parameters in our next lessons. \n",
    "\n",
    "But, right now, we will learn the most frequently used parameters.\n",
    "\n",
    "Let's begin with sep parameter.\n",
    "\n",
    "#### sep parameter:\n",
    "\n",
    "The sep parameter, the seperator between the arguments to print() function in Python is space by default, which can be modified and can be made to any character, integer or string as per our choice. It is found only in Python 3.x or later. This is also used for formatting the output strings.\n"
   ]
  },
  {
   "cell_type": "code",
   "execution_count": 19,
   "metadata": {},
   "outputs": [
    {
     "name": "stdout",
     "output_type": "stream",
     "text": [
      "1 2 3 4 5 6\n"
     ]
    }
   ],
   "source": [
    "print(1,2,3,4,5,6)"
   ]
  },
  {
   "cell_type": "code",
   "execution_count": 20,
   "metadata": {},
   "outputs": [
    {
     "name": "stdout",
     "output_type": "stream",
     "text": [
      "1.2.3.4.5.6\n"
     ]
    }
   ],
   "source": [
    "#separates with this . that we specified \n",
    "print(1,2,3,4,5,6,sep = \".\")"
   ]
  },
  {
   "cell_type": "code",
   "execution_count": 21,
   "metadata": {},
   "outputs": [
    {
     "name": "stdout",
     "output_type": "stream",
     "text": [
      "Omer\n",
      "Faruk\n",
      "Ince\n"
     ]
    }
   ],
   "source": [
    "print(\"Omer\",\"Faruk\",\"Ince\",sep = \"\\n\")"
   ]
  },
  {
   "cell_type": "code",
   "execution_count": 22,
   "metadata": {},
   "outputs": [
    {
     "name": "stdout",
     "output_type": "stream",
     "text": [
      "03/04/2015\n"
     ]
    }
   ],
   "source": [
    "print(\"03\",\"04\",\"2015\",sep = \"/\")"
   ]
  },
  {
   "cell_type": "markdown",
   "metadata": {},
   "source": [
    "#### \\* Parameters\n",
    "If we put a * at the beginning of a string and send it to the print function, it will be separated into these string characters and each character will be treated as a separate character and printed on the screen."
   ]
  },
  {
   "cell_type": "code",
   "execution_count": 23,
   "metadata": {},
   "outputs": [
    {
     "name": "stdout",
     "output_type": "stream",
     "text": [
      "G r e a t !\n"
     ]
    }
   ],
   "source": [
    "# printed spaces between characters.\n",
    "print(*\"Great!\")"
   ]
  },
  {
   "cell_type": "code",
   "execution_count": 24,
   "metadata": {},
   "outputs": [
    {
     "name": "stdout",
     "output_type": "stream",
     "text": [
      "P\n",
      "y\n",
      "t\n",
      "h\n",
      "o\n",
      "n\n",
      " \n",
      "i\n",
      "s\n",
      " \n",
      "g\n",
      "r\n",
      "e\n",
      "a\n",
      "t\n",
      "!\n"
     ]
    }
   ],
   "source": [
    "print(*\"Python is great!\",sep = \"\\n\")"
   ]
  },
  {
   "cell_type": "code",
   "execution_count": 25,
   "metadata": {},
   "outputs": [
    {
     "name": "stdout",
     "output_type": "stream",
     "text": [
      "U.S.A\n"
     ]
    }
   ],
   "source": [
    "print(*\"USA\",sep =\".\")"
   ]
  },
  {
   "cell_type": "markdown",
   "metadata": {},
   "source": [
    "That's all for now for this lesson. \n",
    "\n",
    "See you in our next lessons..."
   ]
  },
  {
   "cell_type": "code",
   "execution_count": null,
   "metadata": {
    "collapsed": true
   },
   "outputs": [],
   "source": []
  }
 ],
 "metadata": {
  "kernelspec": {
   "display_name": "Python 3",
   "language": "python",
   "name": "python3"
  },
  "language_info": {
   "codemirror_mode": {
    "name": "ipython",
    "version": 3
   },
   "file_extension": ".py",
   "mimetype": "text/x-python",
   "name": "python",
   "nbconvert_exporter": "python",
   "pygments_lexer": "ipython3",
   "version": "3.6.1"
  }
 },
 "nbformat": 4,
 "nbformat_minor": 2
}
