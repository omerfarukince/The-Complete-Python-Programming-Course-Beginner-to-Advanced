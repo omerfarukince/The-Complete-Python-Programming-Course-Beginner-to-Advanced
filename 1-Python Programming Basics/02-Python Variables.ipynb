{
 "cells": [
  {
   "cell_type": "markdown",
   "metadata": {},
   "source": [
    "<img src=\"images/variables.png\">\n",
    "\n",
    "# Variables in Python Programming\n",
    "\n",
    "Let's try to learn how to declare variables in Python.\n",
    "\n",
    "### Variables ve Decraling Variable\n",
    "\n",
    "A variable is a location in memory used to store some data (value).\n",
    "\n",
    "\n",
    "Let's create and declare, create and use a variable in Python. \n"
   ]
  },
  {
   "cell_type": "code",
   "execution_count": 1,
   "metadata": {
    "collapsed": true
   },
   "outputs": [],
   "source": [
    "# A Variable Name and it's value\n",
    "i =  5"
   ]
  },
  {
   "cell_type": "markdown",
   "metadata": {},
   "source": [
    "That's it! We've created our variable. Perfect! \n",
    "\n",
    "So, what if we want to print on the screen this variable?"
   ]
  },
  {
   "cell_type": "code",
   "execution_count": 2,
   "metadata": {},
   "outputs": [
    {
     "data": {
      "text/plain": [
       "5"
      ]
     },
     "execution_count": 2,
     "metadata": {},
     "output_type": "execute_result"
    }
   ],
   "source": [
    "i"
   ]
  },
  {
   "cell_type": "markdown",
   "metadata": {},
   "source": [
    "When we print our variable to the screen, the value of our variable is **5**. \n",
    "\n",
    "What will be the result of this calculation below?\n"
   ]
  },
  {
   "cell_type": "code",
   "execution_count": 3,
   "metadata": {},
   "outputs": [
    {
     "data": {
      "text/plain": [
       "125"
      ]
     },
     "execution_count": 3,
     "metadata": {},
     "output_type": "execute_result"
    }
   ],
   "source": [
    "i * i * i"
   ]
  },
  {
   "cell_type": "markdown",
   "metadata": {},
   "source": [
    "The result is  third power of 5. Let's change value of variable. \n",
    "\n",
    "To do this, we're assigning (with **\"=\"** this operator) new value to our variable."
   ]
  },
  {
   "cell_type": "code",
   "execution_count": 4,
   "metadata": {},
   "outputs": [
    {
     "data": {
      "text/plain": [
       "6"
      ]
     },
     "execution_count": 4,
     "metadata": {},
     "output_type": "execute_result"
    }
   ],
   "source": [
    "i = 6\n",
    "i"
   ]
  },
  {
   "cell_type": "markdown",
   "metadata": {},
   "source": [
    "### Multiple Variable Assignment\n",
    "\n",
    "We can also assign a single value to more than one variables simultaneously."
   ]
  },
  {
   "cell_type": "code",
   "execution_count": 5,
   "metadata": {
    "collapsed": true
   },
   "outputs": [],
   "source": [
    "x = y = z = 1"
   ]
  },
  {
   "cell_type": "markdown",
   "metadata": {},
   "source": [
    "We can also assign multiple values to multiple variables at the same time using with commas."
   ]
  },
  {
   "cell_type": "code",
   "execution_count": 6,
   "metadata": {},
   "outputs": [
    {
     "name": "stdout",
     "output_type": "stream",
     "text": [
      "3\n",
      "4\n",
      "5\n"
     ]
    }
   ],
   "source": [
    "a,b,c = 3,4,5\n",
    "print(a)\n",
    "print(b)\n",
    "print(c)"
   ]
  },
  {
   "cell_type": "markdown",
   "metadata": {},
   "source": [
    "Now let's try to create 3 different variables."
   ]
  },
  {
   "cell_type": "code",
   "execution_count": 7,
   "metadata": {
    "collapsed": true
   },
   "outputs": [],
   "source": [
    "a = 2\n",
    "b = 3\n",
    "c = a  + 2 * b"
   ]
  },
  {
   "cell_type": "markdown",
   "metadata": {},
   "source": [
    "What will be variable **c**? In this calculation, first on the right side \n",
    "of the = operator is being calculated,\n",
    " \n",
    "and this calculated value is assigned to the variable **c**.\n"
   ]
  },
  {
   "cell_type": "code",
   "execution_count": 8,
   "metadata": {},
   "outputs": [
    {
     "data": {
      "text/plain": [
       "8"
      ]
     },
     "execution_count": 8,
     "metadata": {},
     "output_type": "execute_result"
    }
   ],
   "source": [
    "c"
   ]
  },
  {
   "cell_type": "markdown",
   "metadata": {},
   "source": [
    "## Python Variables Naming Rules\n",
    "Let's talk about the important points that we should notice, when we're naming our variables.\n"
   ]
  },
  {
   "cell_type": "markdown",
   "metadata": {},
   "source": [
    "<ul>\n",
    "     <li><b>Can not</b> be no <b>spaces</b> between them, if the variable name consist of more than 1 word.</li>\n",
    "     <li><b>Can not</b> be used <b>reserved words.</b></li>\n",
    "     <li>Must begin with a letter (a - z, A - Z) or underscore (_)</li>\n",
    "     <li>A variable name **can not** **start** with a **digit**.</li> \n",
    "     <li>Variable names are **case sensitive**</li>\n",
    "     <li><b>Can not</b> be used **special characters**!</li> \n",
    "     <li>Can be any (reasonable) length</li>\n",
    "\n",
    "</ul>"
   ]
  },
  {
   "cell_type": "markdown",
   "metadata": {},
   "source": [
    "<table align=\"left\" border=\"2\" width=\"500\">\n",
    "<caption>\tReserved Keywords in Python Programming Language</caption>\n",
    "\t<tbody>\n",
    "    \n",
    "\t\t<tr>\n",
    "\t\t\t<td>and</td>\n",
    "\t\t\t<td>as</td>\n",
    "\t\t\t<td>assert</td>\n",
    "\t\t\t<td>break</td>\n",
    "\t\t\t<td>class</td>\n",
    "\t\t</tr>\n",
    "\t\t<tr>\n",
    "\t\t\t<td>continue</td>\n",
    "\t\t\t<td>def</td>\n",
    "\t\t\t<td>del</td>\n",
    "\t\t\t<td>elif</td>\n",
    "\t\t\t<td>else</td>\n",
    "\t\t</tr>\n",
    "\t\t<tr>\n",
    "\t\t\t<td>except</td>\n",
    "\t\t\t<td>exec</td>\n",
    "\t\t\t<td>from</td>\n",
    "\t\t\t<td>finally</td>\n",
    "\t\t\t<td>for</td>\n",
    "\t\t</tr>\n",
    "\t\t<tr>\n",
    "\t\t\t<td>from</td>\n",
    "\t\t\t<td>global</td>\n",
    "\t\t\t<td>global</td>\n",
    "\t\t\t<td>if</td>\n",
    "\t\t\t<td>import</td>\n",
    "\t\t</tr>\n",
    "\t\t<tr>\n",
    "\t\t\t<td>in</td>\n",
    "\t\t\t<td>is</td>\n",
    "\t\t\t<td>lambda</td>\n",
    "\t\t\t<td>not</td>\n",
    "\t\t\t<td>or</td>\n",
    "\t\t</tr>\n",
    "\t\t<tr>\n",
    "\t\t\t<td>pass</td>\n",
    "\t\t\t<td>print</td>\n",
    "\t\t\t<td>raise</td>\n",
    "\t\t\t<td>return</td>\n",
    "\t\t\t<td>try</td>\n",
    "\t\t</tr>\n",
    "\t\t<tr>\n",
    "\t\t\t<td>while</td>\n",
    "\t\t\t<td>with</td>\n",
    "\t\t\t<td>yield</td>\n",
    "\t\t\t<td>raise</td>\n",
    "\n",
    "\t\t</tr>\n",
    "\t</tbody>\n",
    "</table>"
   ]
  },
  {
   "cell_type": "code",
   "execution_count": 9,
   "metadata": {},
   "outputs": [
    {
     "ename": "SyntaxError",
     "evalue": "invalid syntax (<ipython-input-9-d42a721f6760>, line 2)",
     "output_type": "error",
     "traceback": [
      "\u001b[1;36m  File \u001b[1;32m\"<ipython-input-9-d42a721f6760>\"\u001b[1;36m, line \u001b[1;32m2\u001b[0m\n\u001b[1;33m    i? = 5\u001b[0m\n\u001b[1;37m     ^\u001b[0m\n\u001b[1;31mSyntaxError\u001b[0m\u001b[1;31m:\u001b[0m invalid syntax\n"
     ]
    }
   ],
   "source": [
    "#Failed\n",
    "i? = 5"
   ]
  },
  {
   "cell_type": "code",
   "execution_count": 10,
   "metadata": {
    "collapsed": true
   },
   "outputs": [],
   "source": [
    "#True Usage\n",
    "_i = 15"
   ]
  },
  {
   "cell_type": "markdown",
   "metadata": {},
   "source": [
    "Let's one more example and calculate the circumference and area of a circle\n",
    "\n",
    "Guess the result of this calculation without looking at the results.\n"
   ]
  },
  {
   "cell_type": "code",
   "execution_count": 11,
   "metadata": {
    "collapsed": true
   },
   "outputs": [],
   "source": [
    "pi = 3.14\n",
    "radius = 2\n",
    "circ = 2 * pi * radius"
   ]
  },
  {
   "cell_type": "code",
   "execution_count": 12,
   "metadata": {},
   "outputs": [
    {
     "data": {
      "text/plain": [
       "12.56"
      ]
     },
     "execution_count": 12,
     "metadata": {},
     "output_type": "execute_result"
    }
   ],
   "source": [
    "circ"
   ]
  },
  {
   "cell_type": "markdown",
   "metadata": {},
   "source": [
    "Let's try to exchange values of two variables.\n",
    "\n",
    "Let's say that we have a = 3, b = 5. \n",
    "\n",
    "How can we do this?"
   ]
  },
  {
   "cell_type": "code",
   "execution_count": 13,
   "metadata": {},
   "outputs": [
    {
     "name": "stdout",
     "output_type": "stream",
     "text": [
      "3 5\n"
     ]
    }
   ],
   "source": [
    "a = 3\n",
    "b = 5\n",
    "print(a,b)"
   ]
  },
  {
   "cell_type": "code",
   "execution_count": 14,
   "metadata": {},
   "outputs": [
    {
     "name": "stdout",
     "output_type": "stream",
     "text": [
      "5 3\n"
     ]
    }
   ],
   "source": [
    "temp = a \n",
    "a = b\n",
    "b = temp\n",
    "print(a,b)"
   ]
  },
  {
   "cell_type": "markdown",
   "metadata": {},
   "source": [
    "But, there is a much practical way to exchange values of two variables in Python."
   ]
  },
  {
   "cell_type": "code",
   "execution_count": 15,
   "metadata": {
    "collapsed": true
   },
   "outputs": [],
   "source": [
    "a = 3\n",
    "b = 5"
   ]
  },
  {
   "cell_type": "code",
   "execution_count": 16,
   "metadata": {
    "collapsed": true
   },
   "outputs": [],
   "source": [
    "a,b = b,a"
   ]
  },
  {
   "cell_type": "code",
   "execution_count": 17,
   "metadata": {},
   "outputs": [
    {
     "data": {
      "text/plain": [
       "5"
      ]
     },
     "execution_count": 17,
     "metadata": {},
     "output_type": "execute_result"
    }
   ],
   "source": [
    "a"
   ]
  },
  {
   "cell_type": "code",
   "execution_count": 18,
   "metadata": {},
   "outputs": [
    {
     "data": {
      "text/plain": [
       "3"
      ]
     },
     "execution_count": 18,
     "metadata": {},
     "output_type": "execute_result"
    }
   ],
   "source": [
    "b"
   ]
  },
  {
   "cell_type": "markdown",
   "metadata": {},
   "source": [
    "   \n",
    "\n",
    "\n",
    "\n",
    "**Even, we can do this operation with tripled one!**"
   ]
  },
  {
   "cell_type": "code",
   "execution_count": 19,
   "metadata": {},
   "outputs": [
    {
     "name": "stdout",
     "output_type": "stream",
     "text": [
      "5\n",
      "3\n",
      "4\n"
     ]
    }
   ],
   "source": [
    "a = 3\n",
    "b = 4 \n",
    "c = 5\n",
    "\n",
    "a,b,c = c,a,b\n",
    "print(a)\n",
    "print(b)\n",
    "print(c)"
   ]
  },
  {
   "cell_type": "markdown",
   "metadata": {
    "collapsed": true
   },
   "source": [
    "### Changing Value of Variables:\n",
    "\n",
    "Now, let's look at changing value of a variable.\n",
    "\n",
    "Let's look at the code below."
   ]
  },
  {
   "cell_type": "code",
   "execution_count": 20,
   "metadata": {},
   "outputs": [
    {
     "data": {
      "text/plain": [
       "3"
      ]
     },
     "execution_count": 20,
     "metadata": {},
     "output_type": "execute_result"
    }
   ],
   "source": [
    "a = 2\n",
    "a = a + 1\n",
    "a"
   ]
  },
  {
   "cell_type": "markdown",
   "metadata": {},
   "source": [
    "There is a practical method of changing the value of a variable in Python programming. \n",
    "\n",
    "\n",
    "In here, we can write this **\"a = a + 1\"** as **\"a += 1\"** as well.\n",
    "\n",
    "This operator is also called **Compound Assignment Operator**. \n",
    "\n",
    "And this representation is more **Pythonic!** \n"
   ]
  },
  {
   "cell_type": "code",
   "execution_count": 21,
   "metadata": {},
   "outputs": [
    {
     "data": {
      "text/plain": [
       "6"
      ]
     },
     "execution_count": 21,
     "metadata": {},
     "output_type": "execute_result"
    }
   ],
   "source": [
    "a = 5\n",
    "a += 1 # same as a = a + 1.\n",
    "a "
   ]
  },
  {
   "cell_type": "code",
   "execution_count": 22,
   "metadata": {},
   "outputs": [
    {
     "data": {
      "text/plain": [
       "3"
      ]
     },
     "execution_count": 22,
     "metadata": {},
     "output_type": "execute_result"
    }
   ],
   "source": [
    "b = 4\n",
    "\n",
    "b -= 1 # b =  b -1\n",
    "b"
   ]
  },
  {
   "cell_type": "code",
   "execution_count": 23,
   "metadata": {},
   "outputs": [
    {
     "data": {
      "text/plain": [
       "40"
      ]
     },
     "execution_count": 23,
     "metadata": {},
     "output_type": "execute_result"
    }
   ],
   "source": [
    "b = 4\n",
    "b *= 10\n",
    "b"
   ]
  },
  {
   "cell_type": "markdown",
   "metadata": {},
   "source": [
    "### How to use comments in Python\n",
    "\n",
    "When we're writing our programs sometimes, we want to write an explanation what the code does or sometimes we need to explain what we're trying to do anywhere in our code. But we don't want these lines to be run. In such situations, we use comment lines. \n",
    "\n",
    "If the comment lines are used in a program, these lines are **not visible** to Python and **can not be executed** by compiler.\n",
    "\n"
   ]
  },
  {
   "cell_type": "code",
   "execution_count": 24,
   "metadata": {},
   "outputs": [
    {
     "name": "stdout",
     "output_type": "stream",
     "text": [
      "omer\n"
     ]
    }
   ],
   "source": [
    "# Single Line Comment. This is a  comment\n",
    "print(\"omer\") #This is also a single comment."
   ]
  },
  {
   "cell_type": "code",
   "execution_count": 25,
   "metadata": {
    "scrolled": true
   },
   "outputs": [
    {
     "name": "stdout",
     "output_type": "stream",
     "text": [
      "omer\n"
     ]
    }
   ],
   "source": [
    "\"\"\"\n",
    "This is \n",
    "Multiple Line Comment\n",
    "\n",
    "\"\"\"\n",
    "print(\"omer\")"
   ]
  },
  {
   "cell_type": "markdown",
   "metadata": {},
   "source": [
    "That's all for this lesson! \n",
    "\n",
    "See you in our next lessons!\n"
   ]
  },
  {
   "cell_type": "code",
   "execution_count": null,
   "metadata": {
    "collapsed": true
   },
   "outputs": [],
   "source": []
  }
 ],
 "metadata": {
  "kernelspec": {
   "display_name": "Python 3",
   "language": "python",
   "name": "python3"
  },
  "language_info": {
   "codemirror_mode": {
    "name": "ipython",
    "version": 3
   },
   "file_extension": ".py",
   "mimetype": "text/x-python",
   "name": "python",
   "nbconvert_exporter": "python",
   "pygments_lexer": "ipython3",
   "version": "3.6.1"
  }
 },
 "nbformat": 4,
 "nbformat_minor": 2
}
