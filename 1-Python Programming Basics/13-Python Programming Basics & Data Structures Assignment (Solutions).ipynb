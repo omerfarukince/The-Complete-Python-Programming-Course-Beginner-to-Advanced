{
 "cells": [
  {
   "cell_type": "markdown",
   "metadata": {},
   "source": [
    "<img src=\"images/sol1.png\">\n",
    "\n",
    "# Python Programming Basics & Data Structures Assignment (Solutions)"
   ]
  },
  {
   "cell_type": "markdown",
   "metadata": {},
   "source": [
    "### ✍ Assignment 1:\n",
    "\n",
    "Write a Python program which accepts the user's first and last name and print them in reverse order with a space between them.\n",
    "### ✔ Solution 1:"
   ]
  },
  {
   "cell_type": "code",
   "execution_count": null,
   "metadata": {},
   "outputs": [],
   "source": [
    "firstname = input(\"Please, enter your first name:\")\n",
    "lastname = input(\"Please, enter your last name:\")\n",
    "print (\"Hello \" + lastname + \" \" + firstname)"
   ]
  },
  {
   "cell_type": "markdown",
   "metadata": {},
   "source": [
    "------------------------------------------------\n",
    "\n",
    "### ✍ Assignment 2:\n",
    "\n",
    "Write a Python program which accepts the radius of a circle from the user and compute the area.\n",
    "### ✔ Solution 2:\n",
    "In geometry, the area enclosed by a circle of radius r is πr2. Here the Greek letter π represents a constant, approximately equal to 3.14, which is equal to the ratio of the circumference of any circle to its diameter."
   ]
  },
  {
   "cell_type": "code",
   "execution_count": null,
   "metadata": {},
   "outputs": [],
   "source": [
    "pi = 3.14\n",
    "r = float(input (\"Please, enter the radius of the circle :\"))\n",
    "print (\"The area of the circle with radius \" + str(r) + \" is: \" + str(pi * r**2))"
   ]
  },
  {
   "cell_type": "markdown",
   "metadata": {},
   "source": [
    "------------------------------------------------------\n",
    "### ✍ Assignment 3:\n",
    "\n",
    "Write a Python program to get the the volume of a sphere with radius 5.\n",
    "### ✔ Solution 3:\n",
    "\n",
    "**Volume is a sphere:** A sphere is a three-dimensional solid with no face, no edge, no base and no vertex. It is a round body with all points on its surface equidistant from the center. The volume of a sphere is measured in cubic units.\n",
    "\n",
    "**The formula of the volume of a sphere is:** V = 4/3 × π × r3 = π × d3/6."
   ]
  },
  {
   "cell_type": "code",
   "execution_count": null,
   "metadata": {},
   "outputs": [],
   "source": [
    "pi = 3.14\n",
    "r = 5\n",
    "volume = 4/3 * pi * r ** 3\n",
    "print('The volume of the sphere is: ',volume)"
   ]
  },
  {
   "cell_type": "markdown",
   "metadata": {},
   "source": [
    "------------------------------------------------------\n",
    "### ✍ Assignment 4:\n",
    "\n",
    "Write a Python program that gets 2 differents numbers as inputs from the user and print them by swapping.\n",
    "### ✔ Solution 4:"
   ]
  },
  {
   "cell_type": "code",
   "execution_count": null,
   "metadata": {},
   "outputs": [],
   "source": [
    "a = int(input(\"Please, enter the first number:\"))\n",
    "b = int(input(\"Please, enter the second number:\"))\n",
    "\n",
    "a,b = b,a\n",
    "\n",
    "print(\"First number:\",a)\n",
    "print(\"Second number:\",b)"
   ]
  },
  {
   "cell_type": "markdown",
   "metadata": {},
   "source": [
    "------------------------------------------------------\n",
    "### ✍ Assignment 5:\n",
    "\n",
    "Write a Python program that gets the weights and heights as inputs from the user and calculates body mass index(BMI).\n",
    "\n",
    "### ✔ Solution 5:"
   ]
  },
  {
   "cell_type": "code",
   "execution_count": null,
   "metadata": {},
   "outputs": [],
   "source": [
    "height = float(input(\"Input your height in meters: \"))\n",
    "weight = float(input(\"Input your weight in kilogram: \"))\n",
    "print(\"Your Body Mass Index(BMI) is:\", round(weight / (height * height),2))"
   ]
  },
  {
   "cell_type": "markdown",
   "metadata": {},
   "source": [
    "------------------------------------------------------\n",
    "### ✍ Assignment 6:\n",
    "\n",
    "Write a Python program to find whether a given number (get the numbers from the user) is even or odd, print out an appropriate message to the user.\n",
    "\n",
    "### ✔ Solution 6:"
   ]
  },
  {
   "cell_type": "code",
   "execution_count": null,
   "metadata": {},
   "outputs": [],
   "source": [
    "num = int(input(\"Please, enter a number:\"))\n",
    "mod = num % 2\n",
    "if mod > 0:\n",
    "    print(\"This is an odd number.\")\n",
    "else:\n",
    "    print(\"This is an even number.\")"
   ]
  },
  {
   "cell_type": "code",
   "execution_count": null,
   "metadata": {
    "collapsed": true
   },
   "outputs": [],
   "source": []
  }
 ],
 "metadata": {
  "kernelspec": {
   "display_name": "Python 3",
   "language": "python",
   "name": "python3"
  },
  "language_info": {
   "codemirror_mode": {
    "name": "ipython",
    "version": 3
   },
   "file_extension": ".py",
   "mimetype": "text/x-python",
   "name": "python",
   "nbconvert_exporter": "python",
   "pygments_lexer": "ipython3",
   "version": "3.6.1"
  }
 },
 "nbformat": 4,
 "nbformat_minor": 2
}
