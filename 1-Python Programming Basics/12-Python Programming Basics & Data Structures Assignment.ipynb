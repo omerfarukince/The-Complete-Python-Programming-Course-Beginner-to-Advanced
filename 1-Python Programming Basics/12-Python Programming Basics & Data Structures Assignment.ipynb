{
 "cells": [
  {
   "cell_type": "markdown",
   "metadata": {},
   "source": [
    "<img src=\"images/hw1.png\">\n",
    "\n",
    "# Python Programming Basics & Data Structures Assignment "
   ]
  },
  {
   "cell_type": "markdown",
   "metadata": {},
   "source": [
    "**Congratulations!**\n",
    "\n",
    "You have completed this section successfully. \n",
    "\n",
    "Now, it's the right time to do your homeworks to keep in your minds very well!"
   ]
  },
  {
   "cell_type": "markdown",
   "metadata": {},
   "source": [
    "### ✍ Assignment 1:\n",
    "\n",
    "Write a Python program which accepts the user's first and last name and print them in reverse order with a space between them.\n",
    "\n"
   ]
  },
  {
   "cell_type": "markdown",
   "metadata": {},
   "source": [
    "### ✍ Assignment 2:\n",
    "\n",
    "Write a Python program which accepts the radius of a circle from the user and compute the area."
   ]
  },
  {
   "cell_type": "markdown",
   "metadata": {},
   "source": [
    "### ✍ Assignment 3:\n",
    "\n",
    "Write a Python program to get the the volume of a sphere with radius 5."
   ]
  },
  {
   "cell_type": "markdown",
   "metadata": {},
   "source": [
    "### ✍ Assignment 4:\n",
    "\n",
    "Write a Python program that gets 2 differents numbers as inputs from the user and print them by swapping."
   ]
  },
  {
   "cell_type": "markdown",
   "metadata": {},
   "source": [
    "### ✍ Assignment 5:\n",
    "\n",
    "Write a Python program that gets the weights and heights as inputs from the user and calculates body mass index(BMI)."
   ]
  },
  {
   "cell_type": "markdown",
   "metadata": {},
   "source": [
    "### ✍ Assignment 6:\n",
    "\n",
    "Write a Python program to find whether a given number (get the numbers from the user) is even or odd, print out an appropriate message to the user."
   ]
  },
  {
   "cell_type": "code",
   "execution_count": null,
   "metadata": {
    "collapsed": true
   },
   "outputs": [],
   "source": []
  }
 ],
 "metadata": {
  "kernelspec": {
   "display_name": "Python 3",
   "language": "python",
   "name": "python3"
  },
  "language_info": {
   "codemirror_mode": {
    "name": "ipython",
    "version": 3
   },
   "file_extension": ".py",
   "mimetype": "text/x-python",
   "name": "python",
   "nbconvert_exporter": "python",
   "pygments_lexer": "ipython3",
   "version": "3.6.1"
  }
 },
 "nbformat": 4,
 "nbformat_minor": 2
}
